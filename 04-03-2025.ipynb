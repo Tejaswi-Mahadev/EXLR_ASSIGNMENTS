{
 "cells": [
  {
   "cell_type": "code",
   "execution_count": 82,
   "id": "4239988d-2878-423a-9208-bfe96e44fe66",
   "metadata": {},
   "outputs": [],
   "source": [
    "import re"
   ]
  },
  {
   "cell_type": "code",
   "execution_count": 83,
   "id": "145859b5-90e6-4951-8d74-fa1a0caf7388",
   "metadata": {},
   "outputs": [],
   "source": [
    "test_string = '123abc456789abc123ABC'"
   ]
  },
  {
   "cell_type": "code",
   "execution_count": 84,
   "id": "19fd86e6-c5c8-42d5-a9e5-0632103bc65a",
   "metadata": {},
   "outputs": [
    {
     "name": "stdout",
     "output_type": "stream",
     "text": [
      "<re.Match object; span=(3, 6), match='abc'>\n",
      "<re.Match object; span=(12, 15), match='abc'>\n"
     ]
    }
   ],
   "source": [
    "pattern = re.compile(r'abc')\n",
    "matches = pattern.finditer(test_string)\n",
    "for match in matches:\n",
    " print(match)"
   ]
  },
  {
   "cell_type": "code",
   "execution_count": 85,
   "id": "6aa744ec-7476-4d53-917a-4fd50964614d",
   "metadata": {},
   "outputs": [
    {
     "name": "stdout",
     "output_type": "stream",
     "text": [
      "<re.Match object; span=(3, 6), match='abc'>\n",
      "<re.Match object; span=(12, 15), match='abc'>\n"
     ]
    }
   ],
   "source": [
    "matches = re.finditer(r\"abc\", test_string)\n",
    "for match in matches:\n",
    " print(match)"
   ]
  },
  {
   "cell_type": "code",
   "execution_count": 86,
   "id": "4bba0009-9598-4e36-a8a5-2f2f6c985039",
   "metadata": {},
   "outputs": [
    {
     "name": "stdout",
     "output_type": "stream",
     "text": [
      "abc\n",
      "abc\n"
     ]
    }
   ],
   "source": [
    "matches = re.findall(r\"abc\", test_string)\n",
    "for match in matches:\n",
    " print(match)"
   ]
  },
  {
   "cell_type": "code",
   "execution_count": 87,
   "id": "e836b20d-1ed4-41ab-97e6-ba5b39fe2954",
   "metadata": {},
   "outputs": [
    {
     "name": "stdout",
     "output_type": "stream",
     "text": [
      "None\n"
     ]
    }
   ],
   "source": [
    "match = re.match(r\"abc\", test_string)\n",
    "print(match)"
   ]
  },
  {
   "cell_type": "code",
   "execution_count": 88,
   "id": "6ac790c5-6799-40f8-82eb-5cfa3bfda72a",
   "metadata": {},
   "outputs": [
    {
     "name": "stdout",
     "output_type": "stream",
     "text": [
      "<re.Match object; span=(0, 3), match='123'>\n"
     ]
    }
   ],
   "source": [
    "match = re.match(r\"123\", test_string)\n",
    "print(match)"
   ]
  },
  {
   "cell_type": "code",
   "execution_count": 89,
   "id": "40010b62-4c08-4c4a-b566-1703c2d6152c",
   "metadata": {},
   "outputs": [
    {
     "name": "stdout",
     "output_type": "stream",
     "text": [
      "<re.Match object; span=(3, 6), match='abc'>\n"
     ]
    }
   ],
   "source": [
    "match = re.search(r\"abc\", test_string)\n",
    "print(match)"
   ]
  },
  {
   "cell_type": "code",
   "execution_count": 90,
   "id": "3be47488-ef1e-4da9-a805-da917ce5e6a1",
   "metadata": {},
   "outputs": [
    {
     "name": "stdout",
     "output_type": "stream",
     "text": [
      "(3, 6) 3 6\n",
      "(12, 15) 12 15\n"
     ]
    }
   ],
   "source": [
    "pattern = re.compile(r'abc')\n",
    "matches = pattern.finditer(test_string)\n",
    "for match in matches:\n",
    " print(match.span(), match.start(), match.end())"
   ]
  },
  {
   "cell_type": "code",
   "execution_count": 91,
   "id": "1ee9d05c-7263-488b-8e84-7f3dd8ec30f0",
   "metadata": {},
   "outputs": [
    {
     "name": "stdout",
     "output_type": "stream",
     "text": [
      "abc\n",
      "abc\n"
     ]
    }
   ],
   "source": [
    "pattern = re.compile(r'abc')\n",
    "matches = pattern.finditer(test_string)\n",
    "for match in matches:\n",
    " print(match.group())"
   ]
  },
  {
   "cell_type": "code",
   "execution_count": 92,
   "id": "695036e8-1f7f-44c1-bbe7-2aabcde0b4db",
   "metadata": {},
   "outputs": [
    {
     "name": "stdout",
     "output_type": "stream",
     "text": [
      "1 2 3 a b c 4 5 6 7 8 9 a b c 1 2 3 A B C "
     ]
    }
   ],
   "source": [
    "pattern = re.compile(r\".\")\n",
    "matches = pattern.finditer(test_string)\n",
    "for match in matches:\n",
    " print(match.group(), end = \" \")"
   ]
  },
  {
   "cell_type": "code",
   "execution_count": 93,
   "id": "067ba4ac-276c-485e-9aaf-d5dc5f357b69",
   "metadata": {},
   "outputs": [
    {
     "name": "stdout",
     "output_type": "stream",
     "text": [
      "<re.Match object; span=(21, 22), match='.'>\n"
     ]
    }
   ],
   "source": [
    "test_string1 = '123abc456789abc123ABC.'\n",
    "pattern = re.compile(r\"\\.\")\n",
    "matches = pattern.finditer(test_string1)\n",
    "for match in matches:\n",
    " print(match)"
   ]
  },
  {
   "cell_type": "code",
   "execution_count": 94,
   "id": "aa8bab29-17c1-4f43-810e-57d0108ae808",
   "metadata": {},
   "outputs": [
    {
     "name": "stdout",
     "output_type": "stream",
     "text": [
      "<re.Match object; span=(0, 3), match='123'>\n"
     ]
    }
   ],
   "source": [
    "test_string = '123abc456789abc123ABC'\n",
    "pattern = re.compile(r\"^123\")\n",
    "matches = pattern.finditer(test_string)\n",
    "for match in matches:\n",
    " print(match)"
   ]
  },
  {
   "cell_type": "code",
   "execution_count": 95,
   "id": "e1d10573-6efa-49ff-88c3-c4c59aeb9d1b",
   "metadata": {},
   "outputs": [],
   "source": [
    "pattern = re.compile(r\"^abc\")\n",
    "matches = pattern.finditer(test_string)\n",
    "for match in matches:\n",
    " print(match)"
   ]
  },
  {
   "cell_type": "code",
   "execution_count": 96,
   "id": "8adecc50-27bc-4859-a0b4-dcce223e5e70",
   "metadata": {},
   "outputs": [],
   "source": [
    "pattern = re.compile(r\"abc$\")\n",
    "matches = pattern.finditer(test_string)\n",
    "for match in matches:\n",
    " print(match)"
   ]
  },
  {
   "cell_type": "code",
   "execution_count": 97,
   "id": "48951d83-3578-4fc2-81a7-9e09d0d61171",
   "metadata": {},
   "outputs": [
    {
     "name": "stdout",
     "output_type": "stream",
     "text": [
      "<re.Match object; span=(18, 21), match='ABC'>\n"
     ]
    }
   ],
   "source": [
    "pattern = re.compile(r\"ABC$\")\n",
    "matches = pattern.finditer(test_string)\n",
    "for match in matches:\n",
    " print(match)"
   ]
  },
  {
   "cell_type": "code",
   "execution_count": 98,
   "id": "777fda04-b8cd-414b-940c-76f30e7dc956",
   "metadata": {},
   "outputs": [],
   "source": [
    "test_string2 = 'hello 123_ heyho hohey'"
   ]
  },
  {
   "cell_type": "code",
   "execution_count": 99,
   "id": "df3a1bf7-a00d-4695-81b9-f073c7304158",
   "metadata": {},
   "outputs": [
    {
     "name": "stdout",
     "output_type": "stream",
     "text": [
      "<re.Match object; span=(6, 7), match='1'>\n",
      "<re.Match object; span=(7, 8), match='2'>\n",
      "<re.Match object; span=(8, 9), match='3'>\n"
     ]
    }
   ],
   "source": [
    "pattern = re.compile(r\"\\d\")\n",
    "matches = pattern.finditer(test_string2)\n",
    "for match in matches:\n",
    " print(match)"
   ]
  },
  {
   "cell_type": "code",
   "execution_count": 100,
   "id": "3e20540a-7a1f-404c-9759-bf4ce9027f41",
   "metadata": {},
   "outputs": [
    {
     "name": "stdout",
     "output_type": "stream",
     "text": [
      "<re.Match object; span=(0, 1), match='h'>\n",
      "<re.Match object; span=(1, 2), match='e'>\n",
      "<re.Match object; span=(2, 3), match='l'>\n",
      "<re.Match object; span=(3, 4), match='l'>\n",
      "<re.Match object; span=(4, 5), match='o'>\n",
      "<re.Match object; span=(5, 6), match=' '>\n",
      "<re.Match object; span=(9, 10), match='_'>\n",
      "<re.Match object; span=(10, 11), match=' '>\n",
      "<re.Match object; span=(11, 12), match='h'>\n",
      "<re.Match object; span=(12, 13), match='e'>\n",
      "<re.Match object; span=(13, 14), match='y'>\n",
      "<re.Match object; span=(14, 15), match='h'>\n",
      "<re.Match object; span=(15, 16), match='o'>\n",
      "<re.Match object; span=(16, 17), match=' '>\n",
      "<re.Match object; span=(17, 18), match='h'>\n",
      "<re.Match object; span=(18, 19), match='o'>\n",
      "<re.Match object; span=(19, 20), match='h'>\n",
      "<re.Match object; span=(20, 21), match='e'>\n",
      "<re.Match object; span=(21, 22), match='y'>\n"
     ]
    }
   ],
   "source": [
    "pattern = re.compile(r\"\\D\")\n",
    "matches = pattern.finditer(test_string2)\n",
    "for match in matches:\n",
    " print(match)"
   ]
  },
  {
   "cell_type": "code",
   "execution_count": 101,
   "id": "4d3bd636-9a76-4598-b83e-86055878c77e",
   "metadata": {},
   "outputs": [
    {
     "name": "stdout",
     "output_type": "stream",
     "text": [
      "<re.Match object; span=(5, 6), match=' '>\n",
      "<re.Match object; span=(10, 11), match=' '>\n",
      "<re.Match object; span=(16, 17), match=' '>\n"
     ]
    }
   ],
   "source": [
    "pattern = re.compile(r\"\\s\")\n",
    "matches = pattern.finditer(test_string2)\n",
    "for match in matches:\n",
    " print(match)"
   ]
  },
  {
   "cell_type": "code",
   "execution_count": 102,
   "id": "439688a5-339b-43a8-97a3-e59f9bc7a36e",
   "metadata": {},
   "outputs": [
    {
     "name": "stdout",
     "output_type": "stream",
     "text": [
      "<re.Match object; span=(0, 1), match='h'>\n",
      "<re.Match object; span=(1, 2), match='e'>\n",
      "<re.Match object; span=(2, 3), match='l'>\n",
      "<re.Match object; span=(3, 4), match='l'>\n",
      "<re.Match object; span=(4, 5), match='o'>\n",
      "<re.Match object; span=(6, 7), match='1'>\n",
      "<re.Match object; span=(7, 8), match='2'>\n",
      "<re.Match object; span=(8, 9), match='3'>\n",
      "<re.Match object; span=(9, 10), match='_'>\n",
      "<re.Match object; span=(11, 12), match='h'>\n",
      "<re.Match object; span=(12, 13), match='e'>\n",
      "<re.Match object; span=(13, 14), match='y'>\n",
      "<re.Match object; span=(14, 15), match='h'>\n",
      "<re.Match object; span=(15, 16), match='o'>\n",
      "<re.Match object; span=(17, 18), match='h'>\n",
      "<re.Match object; span=(18, 19), match='o'>\n",
      "<re.Match object; span=(19, 20), match='h'>\n",
      "<re.Match object; span=(20, 21), match='e'>\n",
      "<re.Match object; span=(21, 22), match='y'>\n"
     ]
    }
   ],
   "source": [
    "pattern = re.compile(r\"\\S\")\n",
    "matches = pattern.finditer(test_string2)\n",
    "for match in matches:\n",
    " print(match)"
   ]
  },
  {
   "cell_type": "code",
   "execution_count": 103,
   "id": "c484dff2-fa8f-4d70-b793-993d1b8e164b",
   "metadata": {},
   "outputs": [
    {
     "name": "stdout",
     "output_type": "stream",
     "text": [
      "<re.Match object; span=(0, 1), match='h'>\n",
      "<re.Match object; span=(1, 2), match='e'>\n",
      "<re.Match object; span=(2, 3), match='l'>\n",
      "<re.Match object; span=(3, 4), match='l'>\n",
      "<re.Match object; span=(4, 5), match='o'>\n",
      "<re.Match object; span=(6, 7), match='1'>\n",
      "<re.Match object; span=(7, 8), match='2'>\n",
      "<re.Match object; span=(8, 9), match='3'>\n",
      "<re.Match object; span=(9, 10), match='_'>\n",
      "<re.Match object; span=(11, 12), match='h'>\n",
      "<re.Match object; span=(12, 13), match='e'>\n",
      "<re.Match object; span=(13, 14), match='y'>\n",
      "<re.Match object; span=(14, 15), match='h'>\n",
      "<re.Match object; span=(15, 16), match='o'>\n",
      "<re.Match object; span=(17, 18), match='h'>\n",
      "<re.Match object; span=(18, 19), match='o'>\n",
      "<re.Match object; span=(19, 20), match='h'>\n",
      "<re.Match object; span=(20, 21), match='e'>\n",
      "<re.Match object; span=(21, 22), match='y'>\n"
     ]
    }
   ],
   "source": [
    "pattern= re.compile(r\"\\w\")\n",
    "matches= pattern.finditer(test_string2)\n",
    "for match in matches:\n",
    " print(match)"
   ]
  },
  {
   "cell_type": "code",
   "execution_count": 104,
   "id": "a834d80c-dba3-4b37-9a18-ccabb33b455f",
   "metadata": {},
   "outputs": [
    {
     "name": "stdout",
     "output_type": "stream",
     "text": [
      "<re.Match object; span=(5, 6), match=' '>\n",
      "<re.Match object; span=(10, 11), match=' '>\n",
      "<re.Match object; span=(16, 17), match=' '>\n"
     ]
    }
   ],
   "source": [
    "pattern= re.compile(r\"\\W\")\n",
    "matches= pattern.finditer(test_string2)\n",
    "for match in matches:\n",
    " print(match)"
   ]
  },
  {
   "cell_type": "code",
   "execution_count": 105,
   "id": "c06159f4-0f47-47d1-b9d1-b40456bea31c",
   "metadata": {},
   "outputs": [
    {
     "name": "stdout",
     "output_type": "stream",
     "text": [
      "<re.Match object; span=(0, 5), match='hello'>\n"
     ]
    }
   ],
   "source": [
    "pattern= re.compile(r\"\\bhello\")\n",
    "matches= pattern.finditer(test_string2)\n",
    "for match in matches:\n",
    " print(match)"
   ]
  },
  {
   "cell_type": "code",
   "execution_count": 106,
   "id": "c80c94f0-3825-4557-b4f7-81a380f765bc",
   "metadata": {},
   "outputs": [],
   "source": [
    "test_string3 = 'hello 123_'"
   ]
  },
  {
   "cell_type": "code",
   "execution_count": 107,
   "id": "7f8d20e6-ddde-46b7-adad-9145c75a6c0a",
   "metadata": {},
   "outputs": [
    {
     "name": "stdout",
     "output_type": "stream",
     "text": [
      "<re.Match object; span=(2, 3), match='l'>\n",
      "<re.Match object; span=(3, 4), match='l'>\n",
      "<re.Match object; span=(4, 5), match='o'>\n"
     ]
    }
   ],
   "source": [
    "pattern = re.compile(r\"[lo]\")\n",
    "matches = pattern.finditer(test_string3)\n",
    "for match in matches:\n",
    " print(match)"
   ]
  },
  {
   "cell_type": "code",
   "execution_count": 108,
   "id": "733183a6-857f-4c33-a604-0b4eff9bd9c2",
   "metadata": {},
   "outputs": [
    {
     "name": "stdout",
     "output_type": "stream",
     "text": [
      "<re.Match object; span=(0, 1), match='h'>\n",
      "<re.Match object; span=(1, 2), match='e'>\n",
      "<re.Match object; span=(2, 3), match='l'>\n",
      "<re.Match object; span=(3, 4), match='l'>\n",
      "<re.Match object; span=(4, 5), match='o'>\n"
     ]
    }
   ],
   "source": [
    "pattern = re.compile(r\"[a-z]\")\n",
    "matches = pattern.finditer(test_string3)\n",
    "for match in matches:\n",
    " print(match)"
   ]
  },
  {
   "cell_type": "code",
   "execution_count": 109,
   "id": "0cb04b8b-b72b-45c3-9db7-66f463db9a46",
   "metadata": {},
   "outputs": [
    {
     "name": "stdout",
     "output_type": "stream",
     "text": [
      "<re.Match object; span=(7, 8), match='2'>\n",
      "<re.Match object; span=(8, 9), match='3'>\n"
     ]
    }
   ],
   "source": [
    "pattern = re.compile(r\"[23]\")\n",
    "matches = pattern.finditer(test_string3)\n",
    "for match in matches:\n",
    " print(match)"
   ]
  },
  {
   "cell_type": "code",
   "execution_count": 110,
   "id": "53a93bba-bd72-4f21-9e71-4972b28ebf97",
   "metadata": {},
   "outputs": [
    {
     "name": "stdout",
     "output_type": "stream",
     "text": [
      "<re.Match object; span=(6, 7), match='1'>\n",
      "<re.Match object; span=(7, 8), match='2'>\n",
      "<re.Match object; span=(8, 9), match='3'>\n"
     ]
    }
   ],
   "source": [
    "pattern = re.compile(r\"[0-9]\")\n",
    "matches = pattern.finditer(test_string3)\n",
    "for match in matches:\n",
    " print(match)"
   ]
  },
  {
   "cell_type": "code",
   "execution_count": 111,
   "id": "d4097ef5-0338-4d70-9ca3-a1cd5aaad5ce",
   "metadata": {},
   "outputs": [
    {
     "name": "stdout",
     "output_type": "stream",
     "text": [
      "<re.Match object; span=(6, 7), match='1'>\n",
      "<re.Match object; span=(7, 8), match='2'>\n",
      "<re.Match object; span=(8, 9), match='3'>\n",
      "<re.Match object; span=(9, 10), match='-'>\n"
     ]
    }
   ],
   "source": [
    "pattern = re.compile(r\"[0-9-]\")\n",
    "matches = pattern.finditer('hello 123-')\n",
    "for match in matches:\n",
    " print(match)"
   ]
  },
  {
   "cell_type": "code",
   "execution_count": 112,
   "id": "a4a5867a-7bcb-4c6d-a625-296bca4f4ab5",
   "metadata": {},
   "outputs": [
    {
     "name": "stdout",
     "output_type": "stream",
     "text": [
      "<re.Match object; span=(0, 1), match='h'>\n",
      "<re.Match object; span=(1, 2), match='e'>\n",
      "<re.Match object; span=(2, 3), match='l'>\n",
      "<re.Match object; span=(3, 4), match='l'>\n",
      "<re.Match object; span=(4, 5), match='o'>\n",
      "<re.Match object; span=(5, 6), match='H'>\n",
      "<re.Match object; span=(6, 7), match='E'>\n",
      "<re.Match object; span=(7, 8), match='L'>\n",
      "<re.Match object; span=(8, 9), match='L'>\n",
      "<re.Match object; span=(9, 10), match='O'>\n",
      "<re.Match object; span=(11, 12), match='1'>\n",
      "<re.Match object; span=(12, 13), match='2'>\n",
      "<re.Match object; span=(13, 14), match='3'>\n"
     ]
    }
   ],
   "source": [
    "pattern = re.compile(r\"[a-zA-Z0-9]\")\n",
    "matches = pattern.finditer('helloHELLO 123_')\n",
    "for match in matches:\n",
    " print(match)"
   ]
  },
  {
   "cell_type": "code",
   "execution_count": 113,
   "id": "0d32354a-3b25-43e3-ae1c-c6579e23a967",
   "metadata": {},
   "outputs": [],
   "source": [
    "test_string4 = 'hello_123'"
   ]
  },
  {
   "cell_type": "code",
   "execution_count": 114,
   "id": "4cb47499-3c2c-4c99-b561-988fe71fbc7d",
   "metadata": {},
   "outputs": [
    {
     "name": "stdout",
     "output_type": "stream",
     "text": [
      "<re.Match object; span=(0, 0), match=''>\n",
      "<re.Match object; span=(1, 1), match=''>\n",
      "<re.Match object; span=(2, 2), match=''>\n",
      "<re.Match object; span=(3, 3), match=''>\n",
      "<re.Match object; span=(4, 4), match=''>\n",
      "<re.Match object; span=(5, 5), match=''>\n",
      "<re.Match object; span=(6, 9), match='123'>\n",
      "<re.Match object; span=(9, 9), match=''>\n"
     ]
    }
   ],
   "source": [
    "pattern = re.compile(r\"\\d*\")\n",
    "matches = pattern.finditer(test_string4)\n",
    "for match in matches:\n",
    " print(match)"
   ]
  },
  {
   "cell_type": "code",
   "execution_count": 115,
   "id": "1754f232-a534-4bcc-8782-58cfa8ceb985",
   "metadata": {},
   "outputs": [
    {
     "name": "stdout",
     "output_type": "stream",
     "text": [
      "<re.Match object; span=(6, 7), match='1'>\n",
      "<re.Match object; span=(7, 8), match='2'>\n",
      "<re.Match object; span=(8, 9), match='3'>\n"
     ]
    }
   ],
   "source": [
    "pattern = re.compile(r\"\\d\")\n",
    "matches = pattern.finditer(test_string4)\n",
    "for match in matches:\n",
    " print(match)"
   ]
  },
  {
   "cell_type": "code",
   "execution_count": 116,
   "id": "3612aff0-d8e1-4c98-919a-f5597b8f0789",
   "metadata": {},
   "outputs": [
    {
     "name": "stdout",
     "output_type": "stream",
     "text": [
      "<re.Match object; span=(6, 9), match='123'>\n"
     ]
    }
   ],
   "source": [
    "pattern = re.compile(r\"\\d+\")\n",
    "matches = pattern.finditer(test_string4)\n",
    "for match in matches:\n",
    " print(match)"
   ]
  },
  {
   "cell_type": "code",
   "execution_count": 117,
   "id": "34ef1971-ec1e-47de-86a7-af0d8efbfad7",
   "metadata": {},
   "outputs": [
    {
     "name": "stdout",
     "output_type": "stream",
     "text": [
      "<re.Match object; span=(5, 9), match='_123'>\n"
     ]
    }
   ],
   "source": [
    "pattern = re.compile(r\"_\\d+\")\n",
    "matches = pattern.finditer(test_string4)\n",
    "for match in matches:\n",
    " print(match)"
   ]
  },
  {
   "cell_type": "code",
   "execution_count": 118,
   "id": "1b64029f-197d-4bd1-871a-2173cf6b256e",
   "metadata": {},
   "outputs": [],
   "source": [
    "pattern = re.compile(r\"_\\d\")\n",
    "matches = pattern.finditer('hello123')\n",
    "for match in matches:\n",
    " print(match)"
   ]
  },
  {
   "cell_type": "code",
   "execution_count": 119,
   "id": "f19c6c92-989e-4208-868e-94d3ce1a2042",
   "metadata": {},
   "outputs": [
    {
     "name": "stdout",
     "output_type": "stream",
     "text": [
      "<re.Match object; span=(5, 6), match='1'>\n",
      "<re.Match object; span=(6, 7), match='2'>\n",
      "<re.Match object; span=(7, 8), match='3'>\n"
     ]
    }
   ],
   "source": [
    "pattern = re.compile(r\"_?\\d\")\n",
    "matches = pattern.finditer('hello123')\n",
    "for match in matches:\n",
    " print(match)"
   ]
  },
  {
   "cell_type": "code",
   "execution_count": 120,
   "id": "5e6db320-37e5-47b8-b56d-ec028464c4a0",
   "metadata": {},
   "outputs": [
    {
     "name": "stdout",
     "output_type": "stream",
     "text": [
      "<re.Match object; span=(5, 8), match='123'>\n"
     ]
    }
   ],
   "source": [
    "pattern = re.compile(r\"\\d{3}\")\n",
    "matches = pattern.finditer('hello123')\n",
    "for match in matches:\n",
    " print(match)"
   ]
  },
  {
   "cell_type": "code",
   "execution_count": 121,
   "id": "b90cd9aa-aefe-4621-bb04-723471c85581",
   "metadata": {},
   "outputs": [
    {
     "name": "stdout",
     "output_type": "stream",
     "text": [
      "<re.Match object; span=(5, 7), match='12'>\n"
     ]
    }
   ],
   "source": [
    "pattern = re.compile(r\"\\d{2}\")\n",
    "matches = pattern.finditer('hello123')\n",
    "for match in matches:\n",
    " print(match)"
   ]
  },
  {
   "cell_type": "code",
   "execution_count": 122,
   "id": "59eecf0d-a11f-4039-92ea-a04b8ff69d86",
   "metadata": {},
   "outputs": [],
   "source": [
    "pattern = re.compile(r\"\\d{4}\")\n",
    "matches = pattern.finditer('hello123')\n",
    "for match in matches:\n",
    " print(match)"
   ]
  },
  {
   "cell_type": "code",
   "execution_count": 123,
   "id": "76012f76-2ab5-4f93-8f50-85bb84de70f6",
   "metadata": {},
   "outputs": [
    {
     "name": "stdout",
     "output_type": "stream",
     "text": [
      "<re.Match object; span=(5, 8), match='123'>\n"
     ]
    }
   ],
   "source": [
    "pattern = re.compile(r\"\\d{1,3}\")\n",
    "matches = pattern.finditer('hello123')\n",
    "for match in matches:\n",
    " print(match)"
   ]
  },
  {
   "cell_type": "code",
   "execution_count": 124,
   "id": "3d1aea55-fffc-40a5-a6d5-6ae9a7c7b27a",
   "metadata": {},
   "outputs": [],
   "source": [
    "dates = \"\"\"\n",
    "hello\n",
    "11.04.2022\n",
    "2022.04.21\n",
    "2022-04-30\n",
    "2022-05-23\n",
    "2022-06-12\n",
    "2022-07-15\n",
    "2022-08-19\n",
    "2022/04/22\n",
    "2022_04_04\n",
    "\"\"\""
   ]
  },
  {
   "cell_type": "code",
   "execution_count": 125,
   "id": "7d2aef57-15d2-4034-bddf-9449f6e1f97e",
   "metadata": {},
   "outputs": [
    {
     "name": "stdout",
     "output_type": "stream",
     "text": [
      "<re.Match object; span=(31, 39), match='22-04-30'>\n",
      "<re.Match object; span=(42, 50), match='22-05-23'>\n",
      "<re.Match object; span=(53, 61), match='22-06-12'>\n",
      "<re.Match object; span=(64, 72), match='22-07-15'>\n",
      "<re.Match object; span=(75, 83), match='22-08-19'>\n"
     ]
    }
   ],
   "source": [
    "pattern = re.compile(r\"\\d.-\\d.-\\d.\")\n",
    "matches = pattern.finditer(dates)\n",
    "for match in matches:\n",
    " print(match)"
   ]
  },
  {
   "cell_type": "code",
   "execution_count": 126,
   "id": "72aea2ef-6775-42bd-97e0-5653d0a3257e",
   "metadata": {},
   "outputs": [
    {
     "name": "stdout",
     "output_type": "stream",
     "text": [
      "<re.Match object; span=(29, 39), match='2022-04-30'>\n",
      "<re.Match object; span=(40, 50), match='2022-05-23'>\n",
      "<re.Match object; span=(51, 61), match='2022-06-12'>\n",
      "<re.Match object; span=(62, 72), match='2022-07-15'>\n",
      "<re.Match object; span=(73, 83), match='2022-08-19'>\n"
     ]
    }
   ],
   "source": [
    "pattern = re.compile(r\"\\d\\d\\d\\d-\\d\\d-\\d\\d\")\n",
    "matches = pattern.finditer(dates)\n",
    "for match in matches:\n",
    " print(match)"
   ]
  },
  {
   "cell_type": "code",
   "execution_count": 127,
   "id": "d74746aa-0d8f-4479-b187-76c431e2e3d8",
   "metadata": {},
   "outputs": [
    {
     "name": "stdout",
     "output_type": "stream",
     "text": [
      "<re.Match object; span=(29, 39), match='2022-04-30'>\n",
      "<re.Match object; span=(40, 50), match='2022-05-23'>\n",
      "<re.Match object; span=(51, 61), match='2022-06-12'>\n",
      "<re.Match object; span=(62, 72), match='2022-07-15'>\n",
      "<re.Match object; span=(73, 83), match='2022-08-19'>\n",
      "<re.Match object; span=(84, 94), match='2022/04/22'>\n"
     ]
    }
   ],
   "source": [
    "pattern = re.compile(r\"\\d\\d\\d\\d[-/]\\d\\d[-/]\\d\\d\")\n",
    "matches = pattern.finditer(dates)\n",
    "for match in matches:\n",
    " print(match)"
   ]
  },
  {
   "cell_type": "code",
   "execution_count": 128,
   "id": "3a859cb3-06cc-4a00-9308-357973baed94",
   "metadata": {},
   "outputs": [
    {
     "name": "stdout",
     "output_type": "stream",
     "text": [
      "<re.Match object; span=(40, 50), match='2022-05-23'>\n",
      "<re.Match object; span=(51, 61), match='2022-06-12'>\n",
      "<re.Match object; span=(62, 72), match='2022-07-15'>\n"
     ]
    }
   ],
   "source": [
    "pattern = re.compile(r\"\\d\\d\\d\\d[-/]0[5-7][-/]\\d\\d\")\n",
    "matches = pattern.finditer(dates)\n",
    "for match in matches:\n",
    " print(match)"
   ]
  },
  {
   "cell_type": "code",
   "execution_count": 129,
   "id": "cca34a71-cfb1-490f-a353-f7e3c3550b9d",
   "metadata": {},
   "outputs": [
    {
     "name": "stdout",
     "output_type": "stream",
     "text": [
      "<re.Match object; span=(40, 50), match='2022-05-23'>\n",
      "<re.Match object; span=(51, 61), match='2022-06-12'>\n",
      "<re.Match object; span=(62, 72), match='2022-07-15'>\n"
     ]
    }
   ],
   "source": [
    "pattern = re.compile(r\"\\d{4}[-/]0[5-7][-/]\\d{2}\")\n",
    "matches = pattern.finditer(dates)\n",
    "for match in matches:\n",
    " print(match)"
   ]
  },
  {
   "cell_type": "code",
   "execution_count": 130,
   "id": "7b5fc948-e592-488b-8efe-0fb6f5267fea",
   "metadata": {},
   "outputs": [],
   "source": [
    "my_str = \"\"\"\n",
    "hello world\n",
    "1223\n",
    "2022-05-20\n",
    "Mr Curry\n",
    "Mrs Curry\n",
    "Mr. Thompson\n",
    "Mrs Green\n",
    "Mr. T\n",
    "\"\"\""
   ]
  },
  {
   "cell_type": "code",
   "execution_count": 131,
   "id": "d39a063c-1c27-46fc-a16b-fa165f6b01b7",
   "metadata": {},
   "outputs": [
    {
     "name": "stdout",
     "output_type": "stream",
     "text": [
      "<re.Match object; span=(29, 37), match='Mr Curry'>\n"
     ]
    }
   ],
   "source": [
    "pattern = re.compile(r\"Mr\\s\\w+\")\n",
    "matches = pattern.finditer(my_str)\n",
    "for match in matches:\n",
    " print(match)"
   ]
  },
  {
   "cell_type": "code",
   "execution_count": 132,
   "id": "20e230b8-9ba6-416e-a11f-146f887fa646",
   "metadata": {},
   "outputs": [
    {
     "name": "stdout",
     "output_type": "stream",
     "text": [
      "<re.Match object; span=(48, 60), match='Mr. Thompson'>\n",
      "<re.Match object; span=(71, 76), match='Mr. T'>\n"
     ]
    }
   ],
   "source": [
    "pattern = re.compile(r\"Mr\\.\\s\\w+\") #'\\' is used to treat . as dot\n",
    "matches = pattern.finditer(my_str)\n",
    "for match in matches:\n",
    " print(match)"
   ]
  },
  {
   "cell_type": "code",
   "execution_count": 133,
   "id": "45dab89b-65f4-490e-b23c-75693bf05e5f",
   "metadata": {},
   "outputs": [
    {
     "name": "stdout",
     "output_type": "stream",
     "text": [
      "<re.Match object; span=(29, 37), match='Mr Curry'>\n",
      "<re.Match object; span=(48, 60), match='Mr. Thompson'>\n",
      "<re.Match object; span=(71, 76), match='Mr. T'>\n"
     ]
    }
   ],
   "source": [
    "pattern = re.compile(r\"Mr\\.?\\s\\w+\")\n",
    "matches = pattern.finditer(my_str)\n",
    "for match in matches:\n",
    " print(match)"
   ]
  },
  {
   "cell_type": "code",
   "execution_count": 134,
   "id": "632dd888-35d5-481c-ae28-59352be7e2f1",
   "metadata": {},
   "outputs": [
    {
     "name": "stdout",
     "output_type": "stream",
     "text": [
      "<re.Match object; span=(29, 37), match='Mr Curry'>\n",
      "<re.Match object; span=(38, 47), match='Mrs Curry'>\n",
      "<re.Match object; span=(48, 60), match='Mr. Thompson'>\n",
      "<re.Match object; span=(61, 70), match='Mrs Green'>\n",
      "<re.Match object; span=(71, 76), match='Mr. T'>\n"
     ]
    }
   ],
   "source": [
    "pattern = re.compile(r\"(Mr|Ms|Mrs)\\.?\\s\\w+\")\n",
    "matches = pattern.finditer(my_str)\n",
    "for match in matches:\n",
    " print(match)"
   ]
  },
  {
   "cell_type": "code",
   "execution_count": 135,
   "id": "9dadd848-0659-465d-b3bb-782d55479172",
   "metadata": {},
   "outputs": [],
   "source": [
    "emails = \"\"\"\n",
    "hello world\n",
    "1223\n",
    "2022-05-20\n",
    "Mr Curry\n",
    "Mrs Curry\n",
    "Mr. Thompson\n",
    "Mrs Green\n",
    "Mr. T\n",
    "stephencurry@gmail.com\n",
    "Stephen-curry@gmx.de\n",
    "stephen-curry123@my-domain.org\n",
    "\"\"\""
   ]
  },
  {
   "cell_type": "code",
   "execution_count": 136,
   "id": "c6d1e7cb-fcc7-45da-8444-94202abc965e",
   "metadata": {},
   "outputs": [
    {
     "name": "stdout",
     "output_type": "stream",
     "text": [
      "<re.Match object; span=(77, 99), match='stephencurry@gmail.com'>\n",
      "<re.Match object; span=(100, 120), match='Stephen-curry@gmx.de'>\n",
      "<re.Match object; span=(121, 151), match='stephen-curry123@my-domain.org'>\n"
     ]
    }
   ],
   "source": [
    "pattern = re.compile(r\"[a-zA-z0-9-]+@[a-zA-Z-]+\\.(com|de|org)\")\n",
    "matches = pattern.finditer(emails)\n",
    "for match in matches:\n",
    " print(match)"
   ]
  },
  {
   "cell_type": "code",
   "execution_count": 137,
   "id": "bd53ebee-091c-4ca8-81c9-701e50c44db5",
   "metadata": {},
   "outputs": [
    {
     "name": "stdout",
     "output_type": "stream",
     "text": [
      "<re.Match object; span=(77, 99), match='stephencurry@gmail.com'>\n",
      "<re.Match object; span=(100, 120), match='Stephen-curry@gmx.de'>\n",
      "<re.Match object; span=(121, 151), match='stephen-curry123@my-domain.org'>\n"
     ]
    }
   ],
   "source": [
    "pattern = re.compile(r\"[a-zA-z0-9-]+@[a-zA-Z-]+\\.[a-zA-Z]*\")\n",
    "matches = pattern.finditer(emails)\n",
    "for match in matches:\n",
    " print(match)"
   ]
  },
  {
   "cell_type": "code",
   "execution_count": 138,
   "id": "62fd290a-82cc-42ad-99dd-dae7373c80f1",
   "metadata": {},
   "outputs": [
    {
     "name": "stdout",
     "output_type": "stream",
     "text": [
      "all groups:  stephencurry@gmail.com\n",
      "first groups:  stephencurry\n",
      "second groups:  gmail\n",
      "third groups:  com\n",
      "all groups:  Stephen-curry@gmx.de\n",
      "first groups:  Stephen-curry\n",
      "second groups:  gmx\n",
      "third groups:  de\n",
      "all groups:  stephen-curry123@my-domain.org\n",
      "first groups:  stephen-curry123\n",
      "second groups:  my-domain\n",
      "third groups:  org\n"
     ]
    }
   ],
   "source": [
    "pattern = re.compile(r\"([a-zA-z0-9-]+)@([a-zA-Z-]+)\\.([a-zA-Z]+)\")\n",
    "matches = pattern.finditer(emails)\n",
    "for match in matches:\n",
    " print(\"all groups: \",match.group(0)) #this means all groups\n",
    " print(\"first groups: \",match.group(1)) #this means first groups\n",
    " print(\"second groups: \",match.group(2)) #this means second groups\n",
    " print(\"third groups: \",match.group(3)) #this means third groups"
   ]
  },
  {
   "cell_type": "code",
   "execution_count": 139,
   "id": "32844e89-5d91-428d-85c5-d4d18bb9a9a3",
   "metadata": {},
   "outputs": [],
   "source": [
    "my_string = '123abc456789abc123ABC'"
   ]
  },
  {
   "cell_type": "code",
   "execution_count": 140,
   "id": "0f170bdd-d4ff-42af-a611-d231be567512",
   "metadata": {},
   "outputs": [
    {
     "name": "stdout",
     "output_type": "stream",
     "text": [
      "['123', '456789', '123ABC']\n"
     ]
    }
   ],
   "source": [
    "pattern = re.compile(r\"abc\")\n",
    "splitted = pattern.split(my_string)\n",
    "print(splitted)"
   ]
  },
  {
   "cell_type": "code",
   "execution_count": 141,
   "id": "9f96f1ef-820d-4e0a-8220-f078cb161717",
   "metadata": {},
   "outputs": [],
   "source": [
    "test_str = 'hello world, you are the best world'"
   ]
  },
  {
   "cell_type": "code",
   "execution_count": 142,
   "id": "bd45ebe1-a189-48a5-a300-573f7228b467",
   "metadata": {},
   "outputs": [
    {
     "name": "stdout",
     "output_type": "stream",
     "text": [
      "hello planet, you are the best planet\n"
     ]
    }
   ],
   "source": [
    "pattern = re.compile(r\"world\")\n",
    "subbed_string = pattern.sub(\"planet\", test_str)\n",
    "print(subbed_string)"
   ]
  },
  {
   "cell_type": "code",
   "execution_count": 143,
   "id": "26eab29a-2b05-459c-8c87-4b0fb8477ccd",
   "metadata": {},
   "outputs": [],
   "source": [
    "urls = \"\"\"\n",
    "http://zara-fashion.com\n",
    "https://www.world-healthorganisation.org\n",
    "http://www.iNeuron.ai\n",
    "\"\"\""
   ]
  },
  {
   "cell_type": "code",
   "execution_count": 144,
   "id": "f328760d-8a2a-4242-93d3-808b71163d87",
   "metadata": {},
   "outputs": [
    {
     "name": "stdout",
     "output_type": "stream",
     "text": [
      "<re.Match object; span=(1, 24), match='http://zara-fashion.com'>\n",
      "<re.Match object; span=(25, 65), match='https://www.world-healthorganisation.org'>\n",
      "<re.Match object; span=(66, 87), match='http://www.iNeuron.ai'>\n"
     ]
    }
   ],
   "source": [
    "pattern = re.compile(r\"(https?://)(www\\.)?([a-zA-Z-]+)\\.[a-zA-Z]+\")\n",
    "matches = pattern.finditer(urls)\n",
    "for match in matches:\n",
    " print(match)"
   ]
  },
  {
   "cell_type": "code",
   "execution_count": 145,
   "id": "bdb45895-f71a-49d4-9ce3-92921e408157",
   "metadata": {},
   "outputs": [
    {
     "name": "stdout",
     "output_type": "stream",
     "text": [
      "<re.Match object; span=(1, 24), match='http://zara-fashion.com'>\n",
      "<re.Match object; span=(25, 65), match='https://www.world-healthorganisation.org'>\n",
      "<re.Match object; span=(66, 87), match='http://www.iNeuron.ai'>\n"
     ]
    }
   ],
   "source": [
    "pattern = re.compile(r\"(https?://)(www\\.)?([a-zA-Z-]+)\\.([a-zA-Z]+)\")\n",
    "matches = pattern.finditer(urls)\n",
    "for match in matches:\n",
    " print(match)"
   ]
  },
  {
   "cell_type": "code",
   "execution_count": 146,
   "id": "75cf2310-16d2-4e3c-b02d-50fea8a85de2",
   "metadata": {},
   "outputs": [
    {
     "name": "stdout",
     "output_type": "stream",
     "text": [
      "zara-fashion\n",
      "world-healthorganisation\n",
      "iNeuron\n"
     ]
    }
   ],
   "source": [
    "pattern = re.compile(r\"https?://(www\\.)?([a-zA-Z-]+)\\.([a-zA-Z]+)\")\n",
    "matches = pattern.finditer(urls)\n",
    "for match in matches:\n",
    " print(match.group(2))"
   ]
  },
  {
   "cell_type": "code",
   "execution_count": 147,
   "id": "e298e386-db4a-49db-be45-7b47a1917053",
   "metadata": {},
   "outputs": [
    {
     "name": "stdout",
     "output_type": "stream",
     "text": [
      "\n",
      "hello\n",
      "hello\n",
      "hello\n",
      "\n"
     ]
    }
   ],
   "source": [
    "subbed_url = pattern.sub(\"hello\", urls)\n",
    "print(subbed_url)"
   ]
  },
  {
   "cell_type": "code",
   "execution_count": 148,
   "id": "e3d5b8f0-08e3-4ab0-9ea3-b877649cfd92",
   "metadata": {},
   "outputs": [
    {
     "name": "stdout",
     "output_type": "stream",
     "text": [
      "\n",
      "zara-fashioncom\n",
      "world-healthorganisationorg\n",
      "iNeuronai\n",
      "\n"
     ]
    }
   ],
   "source": [
    "subbed_url = pattern.sub(r\"\\2\\3\", urls) \n",
    "print(subbed_url)"
   ]
  },
  {
   "cell_type": "code",
   "execution_count": 149,
   "id": "4a28b5c1-17e3-4451-8cad-a05dc36db5c1",
   "metadata": {},
   "outputs": [],
   "source": [
    "my_string = \"Hello World\"\n",
    "pattern = re.compile(r\"world\")\n",
    "matches = pattern.finditer(my_string)\n",
    "for match in matches:\n",
    " print(match)"
   ]
  },
  {
   "cell_type": "code",
   "execution_count": 150,
   "id": "fa9701de-2654-4fe2-a701-5095d7764651",
   "metadata": {},
   "outputs": [
    {
     "name": "stdout",
     "output_type": "stream",
     "text": [
      "<re.Match object; span=(6, 11), match='World'>\n"
     ]
    }
   ],
   "source": [
    "my_string = \"Hello World\"\n",
    "pattern = re.compile(r\"world\", re.IGNORECASE) \n",
    "matches = pattern.finditer(my_string)\n",
    "for match in matches:\n",
    " print(match)"
   ]
  },
  {
   "cell_type": "code",
   "execution_count": null,
   "id": "d292e3e0-d3be-4729-9e63-701355adce95",
   "metadata": {},
   "outputs": [],
   "source": []
  }
 ],
 "metadata": {
  "kernelspec": {
   "display_name": "Python 3 (ipykernel)",
   "language": "python",
   "name": "python3"
  },
  "language_info": {
   "codemirror_mode": {
    "name": "ipython",
    "version": 3
   },
   "file_extension": ".py",
   "mimetype": "text/x-python",
   "name": "python",
   "nbconvert_exporter": "python",
   "pygments_lexer": "ipython3",
   "version": "3.12.7"
  }
 },
 "nbformat": 4,
 "nbformat_minor": 5
}
