{
  "nbformat": 4,
  "nbformat_minor": 0,
  "metadata": {
    "colab": {
      "provenance": []
    },
    "kernelspec": {
      "name": "python3",
      "display_name": "Python 3"
    },
    "language_info": {
      "name": "python"
    }
  },
  "cells": [
    {
      "cell_type": "markdown",
      "source": [
        "##DAY 1\n",
        "**Write a program in Jupyter Notebook to declare variables of different data types (integer, float, string, and boolean). Print each variable and its type.**"
      ],
      "metadata": {
        "id": "cwmwL5xizAZT"
      }
    },
    {
      "cell_type": "code",
      "execution_count": 1,
      "metadata": {
        "colab": {
          "base_uri": "https://localhost:8080/"
        },
        "id": "yTkF8_Usy0_T",
        "outputId": "d610ee6b-62b4-4efb-a658-0ed025e254ef"
      },
      "outputs": [
        {
          "output_type": "stream",
          "name": "stdout",
          "text": [
            "Integer Variable:\n",
            "Value: 42 | Type: <class 'int'>\n",
            "\n",
            "Float Variable:\n",
            "Value: 3.14 | Type: <class 'float'>\n",
            "\n",
            "String Variable:\n",
            "Value: Hello, Jupyter! | Type: <class 'str'>\n",
            "\n",
            "Boolean Variable:\n",
            "Value: True | Type: <class 'bool'>\n"
          ]
        }
      ],
      "source": [
        "integer_variable = 42\n",
        "float_variable = 3.14\n",
        "string_variable = \"Hello, Jupyter!\"\n",
        "boolean_variable = True\n",
        "\n",
        "\n",
        "print(\"Integer Variable:\")\n",
        "print(\"Value:\", integer_variable, \"| Type:\", type(integer_variable))\n",
        "\n",
        "print(\"\\nFloat Variable:\")\n",
        "print(\"Value:\", float_variable, \"| Type:\", type(float_variable))\n",
        "\n",
        "print(\"\\nString Variable:\")\n",
        "print(\"Value:\", string_variable, \"| Type:\", type(string_variable))\n",
        "\n",
        "print(\"\\nBoolean Variable:\")\n",
        "print(\"Value:\", boolean_variable, \"| Type:\", type(boolean_variable))\n"
      ]
    },
    {
      "cell_type": "markdown",
      "source": [
        "##DAY-2\n",
        "**Create a List, tuple and Dictionary with 5 elements in it and how to access few elements based on the index. Try  with different examples**"
      ],
      "metadata": {
        "id": "m8eOI_oczeVd"
      }
    },
    {
      "cell_type": "code",
      "source": [
        "\n",
        "my_list = [10, 20, 30, 40, 50]\n",
        "my_tuple = ('apple', 'banana', 'cherry', 'date', 'elderberry')\n",
        "my_dict = {'name': 'Alice', 'age': 25, 'city': 'New York', 'job': 'Engineer', 'hobby': 'painting'}\n",
        "\n",
        "\n",
        "print(\"Accessing List Elements:\")\n",
        "print(\"First element:\", my_list[0])\n",
        "print(\"Last element:\", my_list[-1])\n",
        "print(\"Slice (first 3 elements):\", my_list[:3])\n",
        "\n",
        "\n",
        "print(\"\\nAccessing Tuple Elements:\")\n",
        "print(\"Second element:\", my_tuple[1])\n",
        "print(\"Slice (last 2 elements):\", my_tuple[-2:])\n",
        "print(\"Check if 'banana' is in tuple:\", 'banana' in my_tuple)\n",
        "\n",
        "\n",
        "print(\"\\nAccessing Dictionary Elements:\")\n",
        "print(\"Value of 'name':\", my_dict['name'])\n",
        "print(\"Value of 'city':\", my_dict['city'])\n",
        "print(\"Keys in dictionary:\", list(my_dict.keys()))\n",
        "print(\"Values in dictionary:\", list(my_dict.values()))\n",
        "\n"
      ],
      "metadata": {
        "colab": {
          "base_uri": "https://localhost:8080/"
        },
        "id": "wxOQ5nGqzsSU",
        "outputId": "36e0ace7-eba4-4764-f055-e94f6974c374"
      },
      "execution_count": 3,
      "outputs": [
        {
          "output_type": "stream",
          "name": "stdout",
          "text": [
            "Accessing List Elements:\n",
            "First element: 10\n",
            "Last element: 50\n",
            "Slice (first 3 elements): [10, 20, 30]\n",
            "\n",
            "Accessing Tuple Elements:\n",
            "Second element: banana\n",
            "Slice (last 2 elements): ('date', 'elderberry')\n",
            "Check if 'banana' is in tuple: True\n",
            "\n",
            "Accessing Dictionary Elements:\n",
            "Value of 'name': Alice\n",
            "Value of 'city': New York\n",
            "Keys in dictionary: ['name', 'age', 'city', 'job', 'hobby']\n",
            "Values in dictionary: ['Alice', 25, 'New York', 'Engineer', 'painting']\n"
          ]
        }
      ]
    },
    {
      "cell_type": "markdown",
      "source": [
        "##DAY-3\n",
        "\n",
        "**Write a Python program that takes a student's marks in three subjects as input.\n",
        "If the average is greater than or equal to 90, print \"Grade: A\".\n",
        "If the average is between 80 and 89, print \"Grade: B\".\n",
        "If the average is between 70 and 79, print \"Grade: C\".\n",
        "Otherwise, print \"Grade: Fail\".**"
      ],
      "metadata": {
        "id": "EPLjV_2x0K5F"
      }
    },
    {
      "cell_type": "code",
      "source": [
        "\n",
        "subject1 = float(input(\"Enter marks for Subject 1: \"))\n",
        "subject2 = float(input(\"Enter marks for Subject 2: \"))\n",
        "subject3 = float(input(\"Enter marks for Subject 3: \"))\n",
        "\n",
        "average = (subject1 + subject2 + subject3) / 3\n",
        "\n",
        "\n",
        "if average >= 90:\n",
        "    grade = \"A\"\n",
        "elif 80 <= average < 90:\n",
        "    grade = \"B\"\n",
        "elif 70 <= average < 80:\n",
        "    grade = \"C\"\n",
        "else:\n",
        "    grade = \"Fail\"\n",
        "\n",
        "\n",
        "print(f\"Average Marks: {average:.2f}\")\n",
        "print(f\"Grade: {grade}\")\n"
      ],
      "metadata": {
        "colab": {
          "base_uri": "https://localhost:8080/"
        },
        "id": "FM3QGGXT0k2t",
        "outputId": "4c87f890-e4e4-4850-ebcf-5b8eab96b8aa"
      },
      "execution_count": 4,
      "outputs": [
        {
          "output_type": "stream",
          "name": "stdout",
          "text": [
            "Enter marks for Subject 1: 20\n",
            "Enter marks for Subject 2: 30\n",
            "Enter marks for Subject 3: 40\n",
            "Average Marks: 30.00\n",
            "Grade: Fail\n"
          ]
        }
      ]
    },
    {
      "cell_type": "markdown",
      "source": [
        "##DAY-4\n",
        "\n",
        "**Write a Python program to calculate the sum of all even numbers between 1 and a given positive integer n**"
      ],
      "metadata": {
        "id": "1MT2v3Au0uOa"
      }
    },
    {
      "cell_type": "code",
      "source": [
        "\n",
        "n = int(input(\"Enter a positive integer (n): \"))\n",
        "\n",
        "\n",
        "even_sum = 0\n",
        "\n",
        "for i in range(2, n + 1, 2):\n",
        "    even_sum += i\n",
        "\n",
        "# Output the result\n",
        "print(f\"The sum of all even numbers between 1 and {n} is: {even_sum}\")\n"
      ],
      "metadata": {
        "colab": {
          "base_uri": "https://localhost:8080/"
        },
        "id": "QZx4990f06CE",
        "outputId": "6544ae0e-3714-4950-8859-78ee4cf7db6c"
      },
      "execution_count": 5,
      "outputs": [
        {
          "output_type": "stream",
          "name": "stdout",
          "text": [
            "Enter a positive integer (n): 6\n",
            "The sum of all even numbers between 1 and 6 is: 12\n"
          ]
        }
      ]
    },
    {
      "cell_type": "code",
      "source": [],
      "metadata": {
        "id": "KV7DC4uF1Bsa"
      },
      "execution_count": null,
      "outputs": []
    }
  ]
}