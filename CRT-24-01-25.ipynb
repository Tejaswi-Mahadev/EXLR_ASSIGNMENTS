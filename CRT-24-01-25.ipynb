{
 "cells": [
  {
   "cell_type": "code",
   "execution_count": 6,
   "id": "47e9f2ec-863b-4f3d-b53b-2b94795a4da5",
   "metadata": {},
   "outputs": [],
   "source": [
    "import spacy\n",
    "nlp = spacy.load('en_core_web_sm')"
   ]
  },
  {
   "cell_type": "code",
   "execution_count": 31,
   "id": "61ff30b2-a636-400f-a800-4ebe195da196",
   "metadata": {},
   "outputs": [],
   "source": [
    "s = 'This is a test sentence to check spacy tool'"
   ]
  },
  {
   "cell_type": "code",
   "execution_count": 32,
   "id": "f0542f8d-3267-4a71-9b8c-a1871debc2b9",
   "metadata": {},
   "outputs": [
    {
     "data": {
      "text/plain": [
       "str"
      ]
     },
     "execution_count": 32,
     "metadata": {},
     "output_type": "execute_result"
    }
   ],
   "source": [
    "type(s)"
   ]
  },
  {
   "cell_type": "code",
   "execution_count": 33,
   "id": "15d0e550-effa-4e09-9020-0daf6c235c3e",
   "metadata": {},
   "outputs": [],
   "source": [
    "s = nlp(' This is a test sentence')"
   ]
  },
  {
   "cell_type": "code",
   "execution_count": 34,
   "id": "7ea29f67-5483-42c4-a12f-04f3b271f614",
   "metadata": {},
   "outputs": [
    {
     "data": {
      "text/plain": [
       "spacy.tokens.doc.Doc"
      ]
     },
     "execution_count": 34,
     "metadata": {},
     "output_type": "execute_result"
    }
   ],
   "source": [
    "type(s)"
   ]
  },
  {
   "cell_type": "code",
   "execution_count": 35,
   "id": "c9bb10b4-7d18-4a9b-8dbe-f0d48620631c",
   "metadata": {},
   "outputs": [
    {
     "name": "stdout",
     "output_type": "stream",
     "text": [
      " \n",
      "This\n",
      "is\n",
      "a\n",
      "test\n",
      "sentence\n"
     ]
    }
   ],
   "source": [
    "for word in s :\n",
    "    print(word)"
   ]
  },
  {
   "cell_type": "code",
   "execution_count": 38,
   "id": "06ce119e-af20-41a2-b84d-860b7031d8ee",
   "metadata": {},
   "outputs": [],
   "source": [
    "s = nlp('This is a country. This is a test sentence.')"
   ]
  },
  {
   "cell_type": "code",
   "execution_count": 39,
   "id": "a053d633-762d-444e-ab6c-70817c49316e",
   "metadata": {},
   "outputs": [
    {
     "name": "stdout",
     "output_type": "stream",
     "text": [
      "This is a country.\n",
      "This is a test sentence.\n"
     ]
    }
   ],
   "source": [
    "for sent in s.sents:\n",
    "    print(sent)"
   ]
  },
  {
   "cell_type": "code",
   "execution_count": 44,
   "id": "0bbe9090-2746-4741-a7a2-5293ab958b94",
   "metadata": {},
   "outputs": [],
   "source": [
    "s = nlp('The Indian Premier League (IPL) is a premier Twenty20 cricket league in India, launched in 2008 by the BCCI. Featuring ten city-based teams, it blends cricket with entertainment, attracting global players and massive audiences. Known for its fast-paced matches, player auctions, and innovations like DRS, the IPL is a platform for young talent and a major contributor to crickets global popularity. Its celebrated as much for its sportsmanship as for its glamour and fanfare.')"
   ]
  },
  {
   "cell_type": "code",
   "execution_count": 45,
   "id": "e090c9b5-885e-4c10-af7b-5aeb6c58d073",
   "metadata": {},
   "outputs": [
    {
     "data": {
      "text/plain": [
       "The Indian Premier League (IPL) is a premier Twenty20 cricket league in India, launched in 2008 by the BCCI. Featuring ten city-based teams, it blends cricket with entertainment, attracting global players and massive audiences. Known for its fast-paced matches, player auctions, and innovations like DRS, the IPL is a platform for young talent and a major contributor to crickets global popularity. Its celebrated as much for its sportsmanship as for its glamour and fanfare."
      ]
     },
     "execution_count": 45,
     "metadata": {},
     "output_type": "execute_result"
    }
   ],
   "source": [
    "s"
   ]
  },
  {
   "cell_type": "code",
   "execution_count": 46,
   "id": "17a50d2f-d69a-424b-bdb9-bb994c69a0bd",
   "metadata": {
    "scrolled": true
   },
   "outputs": [
    {
     "name": "stdout",
     "output_type": "stream",
     "text": [
      "The - the\n",
      "Indian - indian\n",
      "Premier - Premier\n",
      "League - League\n",
      "( - (\n",
      "IPL - IPL\n",
      ") - )\n",
      "is - be\n",
      "a - a\n",
      "premier - premier\n",
      "Twenty20 - Twenty20\n",
      "cricket - cricket\n",
      "league - league\n",
      "in - in\n",
      "India - India\n",
      ", - ,\n",
      "launched - launch\n",
      "in - in\n",
      "2008 - 2008\n",
      "by - by\n",
      "the - the\n",
      "BCCI - BCCI\n",
      ". - .\n",
      "Featuring - feature\n",
      "ten - ten\n",
      "city - city\n",
      "- - -\n",
      "based - base\n",
      "teams - team\n",
      ", - ,\n",
      "it - it\n",
      "blends - blend\n",
      "cricket - cricket\n",
      "with - with\n",
      "entertainment - entertainment\n",
      ", - ,\n",
      "attracting - attract\n",
      "global - global\n",
      "players - player\n",
      "and - and\n",
      "massive - massive\n",
      "audiences - audience\n",
      ". - .\n",
      "Known - know\n",
      "for - for\n",
      "its - its\n",
      "fast - fast\n",
      "- - -\n",
      "paced - pace\n",
      "matches - match\n",
      ", - ,\n",
      "player - player\n",
      "auctions - auction\n",
      ", - ,\n",
      "and - and\n",
      "innovations - innovation\n",
      "like - like\n",
      "DRS - DRS\n",
      ", - ,\n",
      "the - the\n",
      "IPL - IPL\n",
      "is - be\n",
      "a - a\n",
      "platform - platform\n",
      "for - for\n",
      "young - young\n",
      "talent - talent\n",
      "and - and\n",
      "a - a\n",
      "major - major\n",
      "contributor - contributor\n",
      "to - to\n",
      "crickets - cricket\n",
      "global - global\n",
      "popularity - popularity\n",
      ". - .\n",
      "Its - its\n",
      "celebrated - celebrated\n",
      "as - as\n",
      "much - much\n",
      "for - for\n",
      "its - its\n",
      "sportsmanship - sportsmanship\n",
      "as - as\n",
      "for - for\n",
      "its - its\n",
      "glamour - glamour\n",
      "and - and\n",
      "fanfare - fanfare\n",
      ". - .\n"
     ]
    }
   ],
   "source": [
    "for word in s:\n",
    "    print(f'{word} - {word.lemma_}')"
   ]
  },
  {
   "cell_type": "code",
   "execution_count": 48,
   "id": "665f835e-45fc-4505-821f-c1df7b9581b5",
   "metadata": {},
   "outputs": [
    {
     "data": {
      "text/plain": [
       "The Indian Premier League (IPL) is a premier Twenty20 cricket league in India, launched in 2008 by the BCCI. Featuring ten city-based teams, it blends cricket with entertainment, attracting global players and massive audiences. Known for its fast-paced matches, player auctions, and innovations like DRS, the IPL is a platform for young talent and a major contributor to crickets global popularity. Its celebrated as much for its sportsmanship as for its glamour and fanfare."
      ]
     },
     "execution_count": 48,
     "metadata": {},
     "output_type": "execute_result"
    }
   ],
   "source": [
    "s"
   ]
  },
  {
   "cell_type": "code",
   "execution_count": 49,
   "id": "f231f4c5-bf10-4656-a08a-33f17f0b7227",
   "metadata": {
    "scrolled": true
   },
   "outputs": [
    {
     "name": "stdout",
     "output_type": "stream",
     "text": [
      "The - DET\n",
      "Indian - ADJ\n",
      "Premier - PROPN\n",
      "League - PROPN\n",
      "( - PUNCT\n",
      "IPL - PROPN\n",
      ") - PUNCT\n",
      "is - AUX\n",
      "a - DET\n",
      "premier - NOUN\n",
      "Twenty20 - PROPN\n",
      "cricket - PROPN\n",
      "league - PROPN\n",
      "in - ADP\n",
      "India - PROPN\n",
      ", - PUNCT\n",
      "launched - VERB\n",
      "in - ADP\n",
      "2008 - NUM\n",
      "by - ADP\n",
      "the - DET\n",
      "BCCI - PROPN\n",
      ". - PUNCT\n",
      "Featuring - VERB\n",
      "ten - NUM\n",
      "city - NOUN\n",
      "- - PUNCT\n",
      "based - VERB\n",
      "teams - NOUN\n",
      ", - PUNCT\n",
      "it - PRON\n",
      "blends - VERB\n",
      "cricket - NOUN\n",
      "with - ADP\n",
      "entertainment - NOUN\n",
      ", - PUNCT\n",
      "attracting - VERB\n",
      "global - ADJ\n",
      "players - NOUN\n",
      "and - CCONJ\n",
      "massive - ADJ\n",
      "audiences - NOUN\n",
      ". - PUNCT\n",
      "Known - VERB\n",
      "for - ADP\n",
      "its - PRON\n",
      "fast - ADV\n",
      "- - PUNCT\n",
      "paced - VERB\n",
      "matches - NOUN\n",
      ", - PUNCT\n",
      "player - NOUN\n",
      "auctions - NOUN\n",
      ", - PUNCT\n",
      "and - CCONJ\n",
      "innovations - NOUN\n",
      "like - ADP\n",
      "DRS - PROPN\n",
      ", - PUNCT\n",
      "the - DET\n",
      "IPL - PROPN\n",
      "is - AUX\n",
      "a - DET\n",
      "platform - NOUN\n",
      "for - ADP\n",
      "young - ADJ\n",
      "talent - NOUN\n",
      "and - CCONJ\n",
      "a - DET\n",
      "major - ADJ\n",
      "contributor - NOUN\n",
      "to - ADP\n",
      "crickets - NOUN\n",
      "global - ADJ\n",
      "popularity - NOUN\n",
      ". - PUNCT\n",
      "Its - PRON\n",
      "celebrated - ADJ\n",
      "as - ADV\n",
      "much - ADJ\n",
      "for - ADP\n",
      "its - PRON\n",
      "sportsmanship - NOUN\n",
      "as - ADP\n",
      "for - ADP\n",
      "its - PRON\n",
      "glamour - NOUN\n",
      "and - CCONJ\n",
      "fanfare - NOUN\n",
      ". - PUNCT\n"
     ]
    }
   ],
   "source": [
    "for word in s:\n",
    "    print(f'{word} - {word.pos_}')"
   ]
  },
  {
   "cell_type": "code",
   "execution_count": 59,
   "id": "0d0971e5-e021-4984-9921-0cd109381625",
   "metadata": {},
   "outputs": [],
   "source": [
    "import spacy\n",
    "from spacy import displacy"
   ]
  },
  {
   "cell_type": "code",
   "execution_count": 60,
   "id": "5c417e57-e63a-4cd4-8599-fc757563e4df",
   "metadata": {},
   "outputs": [],
   "source": [
    "nlp = spacy.load(\"en_core_web_sm\")"
   ]
  },
  {
   "cell_type": "code",
   "execution_count": 61,
   "id": "851a0f9a-387c-40db-b320-e95600a5f7b3",
   "metadata": {},
   "outputs": [],
   "source": [
    "s = nlp(\"Apple is looking at buying a UK-based startup for $1 billion.\")"
   ]
  },
  {
   "cell_type": "code",
   "execution_count": 62,
   "id": "b1c79573-241b-4a7c-8de6-396d1afbe1d2",
   "metadata": {},
   "outputs": [
    {
     "data": {
      "text/html": [
       "<span class=\"tex2jax_ignore\"><!DOCTYPE html>\n",
       "<html lang=\"en\">\n",
       "    <head>\n",
       "        <title>displaCy</title>\n",
       "    </head>\n",
       "\n",
       "    <body style=\"font-size: 16px; font-family: -apple-system, BlinkMacSystemFont, 'Segoe UI', Helvetica, Arial, sans-serif, 'Apple Color Emoji', 'Segoe UI Emoji', 'Segoe UI Symbol'; padding: 4rem 2rem; direction: ltr\">\n",
       "<figure style=\"margin-bottom: 6rem\">\n",
       "<div class=\"entities\" style=\"line-height: 2.5; direction: ltr\">\n",
       "<mark class=\"entity\" style=\"background: #7aecec; padding: 0.45em 0.6em; margin: 0 0.25em; line-height: 1; border-radius: 0.35em;\">\n",
       "    Apple\n",
       "    <span style=\"font-size: 0.8em; font-weight: bold; line-height: 1; border-radius: 0.35em; vertical-align: middle; margin-left: 0.5rem\">ORG</span>\n",
       "</mark>\n",
       " is looking at buying a \n",
       "<mark class=\"entity\" style=\"background: #feca74; padding: 0.45em 0.6em; margin: 0 0.25em; line-height: 1; border-radius: 0.35em;\">\n",
       "    UK\n",
       "    <span style=\"font-size: 0.8em; font-weight: bold; line-height: 1; border-radius: 0.35em; vertical-align: middle; margin-left: 0.5rem\">GPE</span>\n",
       "</mark>\n",
       "-based startup for \n",
       "<mark class=\"entity\" style=\"background: #e4e7d2; padding: 0.45em 0.6em; margin: 0 0.25em; line-height: 1; border-radius: 0.35em;\">\n",
       "    $1 billion\n",
       "    <span style=\"font-size: 0.8em; font-weight: bold; line-height: 1; border-radius: 0.35em; vertical-align: middle; margin-left: 0.5rem\">MONEY</span>\n",
       "</mark>\n",
       ".</div>\n",
       "</figure>\n",
       "</body>\n",
       "</html></span>"
      ],
      "text/plain": [
       "<IPython.core.display.HTML object>"
      ]
     },
     "metadata": {},
     "output_type": "display_data"
    },
    {
     "name": "stdout",
     "output_type": "stream",
     "text": [
      "\n",
      "Using the 'ent' visualizer\n",
      "Serving on http://0.0.0.0:5001 ...\n",
      "\n"
     ]
    },
    {
     "name": "stderr",
     "output_type": "stream",
     "text": [
      "127.0.0.1 - - [24/Jan/2025 11:15:58] \"GET / HTTP/1.1\" 200 1385\n",
      "127.0.0.1 - - [24/Jan/2025 11:15:58] \"GET /favicon.ico HTTP/1.1\" 200 1385\n"
     ]
    },
    {
     "name": "stdout",
     "output_type": "stream",
     "text": [
      "Shutting down server on port 5001.\n"
     ]
    }
   ],
   "source": [
    "displacy.serve(s, style='ent', auto_select_port=True)"
   ]
  },
  {
   "cell_type": "code",
   "execution_count": null,
   "id": "18e46923-45f9-4964-a7ae-a613357daa33",
   "metadata": {},
   "outputs": [],
   "source": []
  }
 ],
 "metadata": {
  "kernelspec": {
   "display_name": "Python 3 (ipykernel)",
   "language": "python",
   "name": "python3"
  },
  "language_info": {
   "codemirror_mode": {
    "name": "ipython",
    "version": 3
   },
   "file_extension": ".py",
   "mimetype": "text/x-python",
   "name": "python",
   "nbconvert_exporter": "python",
   "pygments_lexer": "ipython3",
   "version": "3.12.7"
  }
 },
 "nbformat": 4,
 "nbformat_minor": 5
}
