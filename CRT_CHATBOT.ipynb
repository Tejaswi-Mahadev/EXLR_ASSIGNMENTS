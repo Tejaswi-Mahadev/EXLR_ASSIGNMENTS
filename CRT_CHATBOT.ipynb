{
 "cells": [
  {
   "cell_type": "code",
   "execution_count": 2,
   "id": "014249bf-f6cc-47ad-a21e-419e771ab89e",
   "metadata": {},
   "outputs": [
    {
     "name": "stdout",
     "output_type": "stream",
     "text": [
      "Listening...\n",
      "You said: listen listen\n",
      "Listening...\n",
      "You said: hello\n",
      "Listening...\n",
      "You said: brezza good boy good boy\n",
      "Listening...\n",
      "You said: goodbye\n"
     ]
    }
   ],
   "source": [
    "import pyttsx3\n",
    "import speech_recognition as sr\n",
    "\n",
    "# Initialize text-to-speech engine\n",
    "engine = pyttsx3.init()\n",
    "\n",
    "def speak(text):\n",
    "    \"\"\"Function to make the bot speak.\"\"\"\n",
    "    engine.say(text)\n",
    "    engine.runAndWait()\n",
    "\n",
    "def listen():\n",
    "    \"\"\"Function to capture voice input and convert it to text.\"\"\"\n",
    "    recognizer = sr.Recognizer()\n",
    "    with sr.Microphone() as source:\n",
    "        print(\"Listening...\")\n",
    "        recognizer.adjust_for_ambient_noise(source)  # Adjust for background noise\n",
    "        try:\n",
    "            audio = recognizer.listen(source)\n",
    "            command = recognizer.recognize_google(audio).lower()\n",
    "            print(f\"You said: {command}\")\n",
    "            return command\n",
    "        except sr.UnknownValueError:\n",
    "            speak(\"Sorry, I didn't understand that.\")\n",
    "            return \"\"\n",
    "        except sr.RequestError as e:\n",
    "            speak(\"Could not request results, please check your internet connection.\")\n",
    "            return \"\"\n",
    "\n",
    "def main():\n",
    "    \"\"\"Main function for the bot's interaction loop.\"\"\"\n",
    "    speak(\"Hello! I am your simple bot from Malla Reddy College.\")\n",
    "    speak(\"You can say hello, ask my name, or say goodbye.\")\n",
    "    \n",
    "    while True:\n",
    "        command = listen()\n",
    "\n",
    "        if \"hello\" in command:\n",
    "            speak(\"Hi there! Welcome to Malla Reddy College.\")\n",
    "        elif \"what is your name\" in command:\n",
    "            speak(\"My name is Simple Bot from Malla Reddy College.\")\n",
    "        elif \"goodbye\" in command:\n",
    "            speak(\"Goodbye! Have a great day at Malla Reddy College.\")\n",
    "            break\n",
    "        else:\n",
    "            speak(\"I didn't understand that. Please try again.\")\n",
    "\n",
    "if __name__ == \"__main__\":\n",
    "    main()"
   ]
  },
  {
   "cell_type": "code",
   "execution_count": null,
   "id": "203e7aa6-e4fd-48ab-bd56-506e8642fe4d",
   "metadata": {},
   "outputs": [],
   "source": []
  }
 ],
 "metadata": {
  "kernelspec": {
   "display_name": "Python 3 (ipykernel)",
   "language": "python",
   "name": "python3"
  },
  "language_info": {
   "codemirror_mode": {
    "name": "ipython",
    "version": 3
   },
   "file_extension": ".py",
   "mimetype": "text/x-python",
   "name": "python",
   "nbconvert_exporter": "python",
   "pygments_lexer": "ipython3",
   "version": "3.12.7"
  }
 },
 "nbformat": 4,
 "nbformat_minor": 5
}
